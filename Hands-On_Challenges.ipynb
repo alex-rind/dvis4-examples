{
 "cells": [
  {
   "cell_type": "markdown",
   "id": "6e3b108f-9e14-4889-9f2f-10b18f653da2",
   "metadata": {},
   "source": [
    "# 1st Hands-On Challenges"
   ]
  },
  {
   "cell_type": "code",
   "execution_count": 1,
   "id": "ca68910b-7b62-4256-9673-0a72bd924cb4",
   "metadata": {},
   "outputs": [],
   "source": [
    "import altair as alt\n",
    "import pandas as pd"
   ]
  },
  {
   "cell_type": "code",
   "execution_count": 2,
   "id": "9b39e52a-4fbd-4269-b8fd-33d24c870d94",
   "metadata": {},
   "outputs": [
    {
     "data": {
      "text/html": [
       "<div>\n",
       "<style scoped>\n",
       "    .dataframe tbody tr th:only-of-type {\n",
       "        vertical-align: middle;\n",
       "    }\n",
       "\n",
       "    .dataframe tbody tr th {\n",
       "        vertical-align: top;\n",
       "    }\n",
       "\n",
       "    .dataframe thead th {\n",
       "        text-align: right;\n",
       "    }\n",
       "</style>\n",
       "<table border=\"1\" class=\"dataframe\">\n",
       "  <thead>\n",
       "    <tr style=\"text-align: right;\">\n",
       "      <th></th>\n",
       "      <th>Name</th>\n",
       "      <th>Geschlecht</th>\n",
       "      <th>BMI</th>\n",
       "      <th>NBZ</th>\n",
       "      <th>HbA1c</th>\n",
       "      <th>Chol</th>\n",
       "      <th>TG</th>\n",
       "      <th>Nikotin</th>\n",
       "    </tr>\n",
       "  </thead>\n",
       "  <tbody>\n",
       "    <tr>\n",
       "      <th>0</th>\n",
       "      <td>Ernst Mayer</td>\n",
       "      <td>maennlich</td>\n",
       "      <td>24.9</td>\n",
       "      <td>116</td>\n",
       "      <td>9.9</td>\n",
       "      <td>163</td>\n",
       "      <td>55</td>\n",
       "      <td>T</td>\n",
       "    </tr>\n",
       "    <tr>\n",
       "      <th>1</th>\n",
       "      <td>Elfriede Blau</td>\n",
       "      <td>weiblich</td>\n",
       "      <td>31.7</td>\n",
       "      <td>221</td>\n",
       "      <td>9.3</td>\n",
       "      <td>209</td>\n",
       "      <td>531</td>\n",
       "      <td>T</td>\n",
       "    </tr>\n",
       "    <tr>\n",
       "      <th>2</th>\n",
       "      <td>Petra Maus</td>\n",
       "      <td>weiblich</td>\n",
       "      <td>21.6</td>\n",
       "      <td>293</td>\n",
       "      <td>13.2</td>\n",
       "      <td>220</td>\n",
       "      <td>94</td>\n",
       "      <td>T</td>\n",
       "    </tr>\n",
       "    <tr>\n",
       "      <th>3</th>\n",
       "      <td>Klaus Penz</td>\n",
       "      <td>maennlich</td>\n",
       "      <td>22.5</td>\n",
       "      <td>133</td>\n",
       "      <td>8.0</td>\n",
       "      <td>138</td>\n",
       "      <td>87</td>\n",
       "      <td>T</td>\n",
       "    </tr>\n",
       "    <tr>\n",
       "      <th>4</th>\n",
       "      <td>Norbert Fellner</td>\n",
       "      <td>maennlich</td>\n",
       "      <td>34.4</td>\n",
       "      <td>96</td>\n",
       "      <td>5.8</td>\n",
       "      <td>190</td>\n",
       "      <td>116</td>\n",
       "      <td>T</td>\n",
       "    </tr>\n",
       "    <tr>\n",
       "      <th>5</th>\n",
       "      <td>Ingo Cleric</td>\n",
       "      <td>maennlich</td>\n",
       "      <td>33.7</td>\n",
       "      <td>125</td>\n",
       "      <td>9.2</td>\n",
       "      <td>169</td>\n",
       "      <td>251</td>\n",
       "      <td>F</td>\n",
       "    </tr>\n",
       "    <tr>\n",
       "      <th>6</th>\n",
       "      <td>Alois Wein</td>\n",
       "      <td>maennlich</td>\n",
       "      <td>36.7</td>\n",
       "      <td>140</td>\n",
       "      <td>7.7</td>\n",
       "      <td>134</td>\n",
       "      <td>196</td>\n",
       "      <td>F</td>\n",
       "    </tr>\n",
       "  </tbody>\n",
       "</table>\n",
       "</div>"
      ],
      "text/plain": [
       "              Name Geschlecht   BMI  NBZ  HbA1c  Chol   TG Nikotin\n",
       "0      Ernst Mayer  maennlich  24.9  116    9.9   163   55       T\n",
       "1    Elfriede Blau   weiblich  31.7  221    9.3   209  531       T\n",
       "2       Petra Maus   weiblich  21.6  293   13.2   220   94       T\n",
       "3       Klaus Penz  maennlich  22.5  133    8.0   138   87       T\n",
       "4  Norbert Fellner  maennlich  34.4   96    5.8   190  116       T\n",
       "5      Ingo Cleric  maennlich  33.7  125    9.2   169  251       F\n",
       "6       Alois Wein  maennlich  36.7  140    7.7   134  196       F"
      ]
     },
     "execution_count": 2,
     "metadata": {},
     "output_type": "execute_result"
    }
   ],
   "source": [
    "df = pd.read_json('https://raw.githubusercontent.com/alex-rind/viztutorial/master/diabetes-small.json')\n",
    "df"
   ]
  },
  {
   "cell_type": "markdown",
   "id": "13bc4c50-59fa-4605-889a-97b84ea6924e",
   "metadata": {},
   "source": [
    "start from a scatter plot (provided on eCampus)"
   ]
  },
  {
   "cell_type": "code",
   "execution_count": 3,
   "id": "691f21c4-0dd6-4932-97b4-cc2355b81b4b",
   "metadata": {},
   "outputs": [
    {
     "data": {
      "text/html": [
       "\n",
       "<div id=\"altair-viz-de595e6ade8a4817b2c0270cebc4fb00\"></div>\n",
       "<script type=\"text/javascript\">\n",
       "  var VEGA_DEBUG = (typeof VEGA_DEBUG == \"undefined\") ? {} : VEGA_DEBUG;\n",
       "  (function(spec, embedOpt){\n",
       "    let outputDiv = document.currentScript.previousElementSibling;\n",
       "    if (outputDiv.id !== \"altair-viz-de595e6ade8a4817b2c0270cebc4fb00\") {\n",
       "      outputDiv = document.getElementById(\"altair-viz-de595e6ade8a4817b2c0270cebc4fb00\");\n",
       "    }\n",
       "    const paths = {\n",
       "      \"vega\": \"https://cdn.jsdelivr.net/npm//vega@5?noext\",\n",
       "      \"vega-lib\": \"https://cdn.jsdelivr.net/npm//vega-lib?noext\",\n",
       "      \"vega-lite\": \"https://cdn.jsdelivr.net/npm//vega-lite@4.17.0?noext\",\n",
       "      \"vega-embed\": \"https://cdn.jsdelivr.net/npm//vega-embed@6?noext\",\n",
       "    };\n",
       "\n",
       "    function maybeLoadScript(lib, version) {\n",
       "      var key = `${lib.replace(\"-\", \"\")}_version`;\n",
       "      return (VEGA_DEBUG[key] == version) ?\n",
       "        Promise.resolve(paths[lib]) :\n",
       "        new Promise(function(resolve, reject) {\n",
       "          var s = document.createElement('script');\n",
       "          document.getElementsByTagName(\"head\")[0].appendChild(s);\n",
       "          s.async = true;\n",
       "          s.onload = () => {\n",
       "            VEGA_DEBUG[key] = version;\n",
       "            return resolve(paths[lib]);\n",
       "          };\n",
       "          s.onerror = () => reject(`Error loading script: ${paths[lib]}`);\n",
       "          s.src = paths[lib];\n",
       "        });\n",
       "    }\n",
       "\n",
       "    function showError(err) {\n",
       "      outputDiv.innerHTML = `<div class=\"error\" style=\"color:red;\">${err}</div>`;\n",
       "      throw err;\n",
       "    }\n",
       "\n",
       "    function displayChart(vegaEmbed) {\n",
       "      vegaEmbed(outputDiv, spec, embedOpt)\n",
       "        .catch(err => showError(`Javascript Error: ${err.message}<br>This usually means there's a typo in your chart specification. See the javascript console for the full traceback.`));\n",
       "    }\n",
       "\n",
       "    if(typeof define === \"function\" && define.amd) {\n",
       "      requirejs.config({paths});\n",
       "      require([\"vega-embed\"], displayChart, err => showError(`Error loading script: ${err.message}`));\n",
       "    } else {\n",
       "      maybeLoadScript(\"vega\", \"5\")\n",
       "        .then(() => maybeLoadScript(\"vega-lite\", \"4.17.0\"))\n",
       "        .then(() => maybeLoadScript(\"vega-embed\", \"6\"))\n",
       "        .catch(showError)\n",
       "        .then(() => displayChart(vegaEmbed));\n",
       "    }\n",
       "  })({\"config\": {\"view\": {\"continuousWidth\": 400, \"continuousHeight\": 300}}, \"data\": {\"name\": \"data-d6dfebbb6e38f80ce42b4c6bc798dce6\"}, \"mark\": \"point\", \"encoding\": {\"x\": {\"field\": \"Chol\", \"type\": \"quantitative\"}, \"y\": {\"field\": \"BMI\", \"type\": \"quantitative\"}}, \"$schema\": \"https://vega.github.io/schema/vega-lite/v4.17.0.json\", \"datasets\": {\"data-d6dfebbb6e38f80ce42b4c6bc798dce6\": [{\"Name\": \"Ernst Mayer\", \"Geschlecht\": \"maennlich\", \"BMI\": 24.9, \"NBZ\": 116, \"HbA1c\": 9.9, \"Chol\": 163, \"TG\": 55, \"Nikotin\": \"T\"}, {\"Name\": \"Elfriede Blau\", \"Geschlecht\": \"weiblich\", \"BMI\": 31.7, \"NBZ\": 221, \"HbA1c\": 9.3, \"Chol\": 209, \"TG\": 531, \"Nikotin\": \"T\"}, {\"Name\": \"Petra Maus\", \"Geschlecht\": \"weiblich\", \"BMI\": 21.6, \"NBZ\": 293, \"HbA1c\": 13.2, \"Chol\": 220, \"TG\": 94, \"Nikotin\": \"T\"}, {\"Name\": \"Klaus Penz\", \"Geschlecht\": \"maennlich\", \"BMI\": 22.5, \"NBZ\": 133, \"HbA1c\": 8.0, \"Chol\": 138, \"TG\": 87, \"Nikotin\": \"T\"}, {\"Name\": \"Norbert Fellner\", \"Geschlecht\": \"maennlich\", \"BMI\": 34.4, \"NBZ\": 96, \"HbA1c\": 5.8, \"Chol\": 190, \"TG\": 116, \"Nikotin\": \"T\"}, {\"Name\": \"Ingo Cleric\", \"Geschlecht\": \"maennlich\", \"BMI\": 33.7, \"NBZ\": 125, \"HbA1c\": 9.2, \"Chol\": 169, \"TG\": 251, \"Nikotin\": \"F\"}, {\"Name\": \"Alois Wein\", \"Geschlecht\": \"maennlich\", \"BMI\": 36.7, \"NBZ\": 140, \"HbA1c\": 7.7, \"Chol\": 134, \"TG\": 196, \"Nikotin\": \"F\"}]}}, {\"mode\": \"vega-lite\"});\n",
       "</script>"
      ],
      "text/plain": [
       "alt.Chart(...)"
      ]
     },
     "execution_count": 3,
     "metadata": {},
     "output_type": "execute_result"
    }
   ],
   "source": [
    "alt.Chart(df).mark_point().encode(\n",
    "    x='Chol',\n",
    "    y='BMI',\n",
    ")"
   ]
  },
  {
   "cell_type": "markdown",
   "id": "0f40a06b-2d6d-400f-a019-e9a1bac3cf02",
   "metadata": {},
   "source": [
    "exchange x-axis channel to another attribute “TG”"
   ]
  },
  {
   "cell_type": "code",
   "execution_count": null,
   "id": "4190de04-0828-4ef1-bc01-4029f0675432",
   "metadata": {},
   "outputs": [],
   "source": []
  },
  {
   "cell_type": "markdown",
   "id": "118991b6-554d-4c27-813b-8fe81ca585f2",
   "metadata": {},
   "source": [
    "add color channel for “Geschlecht” or “Chol”"
   ]
  },
  {
   "cell_type": "code",
   "execution_count": null,
   "id": "25ccae85-fb61-431e-9f55-42d26f126ce9",
   "metadata": {},
   "outputs": [],
   "source": []
  },
  {
   "cell_type": "code",
   "execution_count": null,
   "id": "30f75f6a-b395-4dd2-83ae-d253d1ed98f8",
   "metadata": {},
   "outputs": [],
   "source": []
  },
  {
   "cell_type": "markdown",
   "id": "1b2e759f-1db9-4562-ace9-e12906a02915",
   "metadata": {},
   "source": [
    "(intermediate) turn into a bar chart (“BMI” by “Person”)"
   ]
  },
  {
   "cell_type": "code",
   "execution_count": null,
   "id": "4200c156-8efd-47ae-8f40-9d5eeb0cf69a",
   "metadata": {},
   "outputs": [],
   "source": []
  },
  {
   "cell_type": "markdown",
   "id": "8496c2b6-ccb9-4760-a9ab-2ebc58b2f63b",
   "metadata": {},
   "source": [
    "(expert) add a text label with value of “Nikotin”"
   ]
  },
  {
   "cell_type": "code",
   "execution_count": null,
   "id": "9df91d07-355e-422e-b308-975ee1a4d4e9",
   "metadata": {},
   "outputs": [],
   "source": []
  }
 ],
 "metadata": {
  "kernelspec": {
   "display_name": "Python 3 (ipykernel)",
   "language": "python",
   "name": "python3"
  },
  "language_info": {
   "codemirror_mode": {
    "name": "ipython",
    "version": 3
   },
   "file_extension": ".py",
   "mimetype": "text/x-python",
   "name": "python",
   "nbconvert_exporter": "python",
   "pygments_lexer": "ipython3",
   "version": "3.9.6"
  }
 },
 "nbformat": 4,
 "nbformat_minor": 5
}
